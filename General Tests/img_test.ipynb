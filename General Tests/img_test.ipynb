{
 "cells": [
  {
   "cell_type": "code",
   "execution_count": 218,
   "metadata": {},
   "outputs": [],
   "source": [
    "from PIL import Image\n",
    "import numpy as np\n"
   ]
  },
  {
   "cell_type": "code",
   "execution_count": 219,
   "metadata": {},
   "outputs": [
    {
     "data": {
      "text/plain": [
       "array([[[ 99, 139, 208],\n",
       "        [124, 156, 169],\n",
       "        [  9, 104,  50],\n",
       "        ...,\n",
       "        [227, 158,  38],\n",
       "        [126, 150, 241],\n",
       "        [226,  64,  20]],\n",
       "\n",
       "       [[251, 183, 100],\n",
       "        [ 60, 215, 204],\n",
       "        [225,   3, 128],\n",
       "        ...,\n",
       "        [124,  63, 185],\n",
       "        [168, 123, 155],\n",
       "        [ 77,  39, 136]],\n",
       "\n",
       "       [[207, 194,  51],\n",
       "        [174,   2, 230],\n",
       "        [ 16, 213, 176],\n",
       "        ...,\n",
       "        [ 81, 168, 207],\n",
       "        [ 75, 104, 120],\n",
       "        [  3, 241, 124]],\n",
       "\n",
       "       ...,\n",
       "\n",
       "       [[ 60, 253,  91],\n",
       "        [193, 162, 195],\n",
       "        [ 66, 173, 219],\n",
       "        ...,\n",
       "        [127, 180,   4],\n",
       "        [101,  24, 233],\n",
       "        [131, 106,  35]],\n",
       "\n",
       "       [[246, 127, 114],\n",
       "        [156,  83, 147],\n",
       "        [ 11, 138, 125],\n",
       "        ...,\n",
       "        [155, 132, 138],\n",
       "        [224, 190, 227],\n",
       "        [  6, 102, 159]],\n",
       "\n",
       "       [[234,  94, 145],\n",
       "        [241,  35, 145],\n",
       "        [ 38, 254,  82],\n",
       "        ...,\n",
       "        [173,   0, 213],\n",
       "        [212,  68, 165],\n",
       "        [214, 211, 240]]], dtype=uint8)"
      ]
     },
     "execution_count": 219,
     "metadata": {},
     "output_type": "execute_result"
    }
   ],
   "source": [
    "\n",
    "height = 20\n",
    "weight = 1000\n",
    "channel = 3\n",
    "img_numpy = np.random.randint(0, 256, (height, weight, channel)).astype(np.uint8)\n",
    "img = Image.fromarray(img_numpy, \"RGB\")\n",
    "# make a numpy array of random numbers of shape (20,100,3) and type uint8\n",
    "img_numpy.shape\n",
    "img_numpy\n"
   ]
  },
  {
   "cell_type": "code",
   "execution_count": 220,
   "metadata": {},
   "outputs": [],
   "source": [
    "\n",
    "\n",
    "# Save the Numpy array as Image\n",
    "image_filename = \"opengenus_image.jpeg\"\n",
    "img.save(image_filename)\n"
   ]
  },
  {
   "cell_type": "code",
   "execution_count": 221,
   "metadata": {},
   "outputs": [],
   "source": [
    "#import csv and save contents to dataframe\n",
    "import pandas as pd\n",
    "df = pd.read_csv('example_data_top4.csv')\n",
    "\n",
    "#removing column 2\n",
    "df = df.drop(df.columns[1], axis=1)\n"
   ]
  },
  {
   "cell_type": "code",
   "execution_count": 222,
   "metadata": {},
   "outputs": [
    {
     "name": "stdout",
     "output_type": "stream",
     "text": [
      "[[[  0   0   0]\n",
      "  [  0   0   0]\n",
      "  [  0   0   0]\n",
      "  ...\n",
      "  [  0   0   0]\n",
      "  [  0   0   0]\n",
      "  [  0   0   0]]\n",
      "\n",
      " [[  0   0   0]\n",
      "  [  0   0   0]\n",
      "  [  0   0   0]\n",
      "  ...\n",
      "  [  1   1   1]\n",
      "  [  1   1   1]\n",
      "  [  1   1   1]]\n",
      "\n",
      " [[  1   1   1]\n",
      "  [  1   1   1]\n",
      "  [  1   1   1]\n",
      "  ...\n",
      "  [  1   1   1]\n",
      "  [  1   1   1]\n",
      "  [  1   1   1]]\n",
      "\n",
      " ...\n",
      "\n",
      " [[ 61  61  61]\n",
      "  [ 61  61  61]\n",
      "  [ 61  61  61]\n",
      "  ...\n",
      "  [ 72  72  72]\n",
      "  [ 72  72  72]\n",
      "  [ 72  72  72]]\n",
      "\n",
      " [[ 72  72  72]\n",
      "  [ 72  72  72]\n",
      "  [ 72  72  72]\n",
      "  ...\n",
      "  [ 89  89  89]\n",
      "  [ 89  89  89]\n",
      "  [ 89  89  89]]\n",
      "\n",
      " [[ 89  89  89]\n",
      "  [ 89  89  89]\n",
      "  [ 89  89  89]\n",
      "  ...\n",
      "  [194 194 194]\n",
      "  [214 214 214]\n",
      "  [255 255 255]]]\n"
     ]
    }
   ],
   "source": [
    "def convert_value_to_rgb(value,m,n):\n",
    "    min_value = n\n",
    "    max_value = m\n",
    "\n",
    "    normalized_value = (value - min_value) / (max_value - min_value)\n",
    "    rgb_value = int(normalized_value * 255)\n",
    "\n",
    "    rgb = (rgb_value, rgb_value, rgb_value)\n",
    "\n",
    "    return rgb\n",
    "\n",
    "#convert a 1d dataframe to a array of int\n",
    "df = np.random.exponential(3.45, 10000)\n",
    "n = min(df)\n",
    "m = max(df)\n",
    "# Convert each value to RGB\n",
    "rgb_array = np.array([convert_value_to_rgb(value,m,n) for value in df])\n",
    "\n",
    "#sort this np array in ascending order basing on first value\n",
    "rgb_array = rgb_array[rgb_array[:,0].argsort()]\n",
    "\n",
    "#drop the last 6 values\n",
    "rgb_array=rgb_array.reshape(40,250,3)\n",
    "print(rgb_array)\n",
    "\n",
    "img = Image.fromarray(rgb_array, \"RGB\")\n",
    "image_filename = \"new.jpeg\"\n",
    "img.save(image_filename)\n"
   ]
  }
 ],
 "metadata": {
  "kernelspec": {
   "display_name": "Python 3",
   "language": "python",
   "name": "python3"
  },
  "language_info": {
   "codemirror_mode": {
    "name": "ipython",
    "version": 3
   },
   "file_extension": ".py",
   "mimetype": "text/x-python",
   "name": "python",
   "nbconvert_exporter": "python",
   "pygments_lexer": "ipython3",
   "version": "3.11.0"
  },
  "orig_nbformat": 4
 },
 "nbformat": 4,
 "nbformat_minor": 2
}
